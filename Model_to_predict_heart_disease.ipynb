{
 "cells": [
  {
   "cell_type": "markdown",
   "id": "e81a339d",
   "metadata": {},
   "source": [
    "# Heart Disease Prediction Model"
   ]
  },
  {
   "cell_type": "markdown",
   "id": "7f47576d",
   "metadata": {},
   "source": [
    "## I. Project Description\n",
    "Heart disease is one of the leading causes of death for most people in the United States, and about half of Americans have at least one of three key risk factors for heart disease. Because of the prevalence of heart disease, I decided to build a model to predict heart disease based on some of the most common and influential predictors. This model could predict whether an individual has heart disease so they can receive the necessary treatment to reduce the burden of their condition."
   ]
  },
  {
   "cell_type": "markdown",
   "id": "f249154a",
   "metadata": {},
   "source": [
    "This data set has around <b>319,800 rows</b> and <b>18 variables</b>: 9 boolean, 5 string, and 4 decimal.\n",
    "<ul>\n",
    "    <li>The booleans include the presence of heart disease, smoking, heavy drinking, stroke, skin cancer, asthma, diabetes, and kidney cancer.</li>\n",
    "    <li>The strings include sex, race, and general health.</li>\n",
    "    <li>The decimals include sleep time, bad physical health days in a month, and bad mental health days in a month.</li>\n",
    "</ul>"
   ]
  },
  {
   "cell_type": "markdown",
   "id": "dafa1efe",
   "metadata": {},
   "source": [
    "From the data, the dependent variable (y) we are trying to predict is `HeartDisease`, and the rest are feature variables."
   ]
  },
  {
   "cell_type": "markdown",
   "id": "4afe3054",
   "metadata": {},
   "source": [
    "## II. Data Analysis\n",
    "### A. Project Functions\n",
    "I will use below modules to support my model development:\n",
    "<ul>\n",
    "    <li><b>numpy</b>, <b>pandas</b>, and <b>copy</b>: to handle data cleaning and calculation</li>\n",
    "    <li><b>matplotlib</b>: to graph data</li>\n",
    "    <li><b>sklearn</b>: to run classification models</li>\n",
    "</ul>"
   ]
  },
  {
   "cell_type": "code",
   "execution_count": 1,
   "id": "a40b3714",
   "metadata": {},
   "outputs": [],
   "source": [
    "import numpy as np\n",
    "import pandas as pd\n",
    "import matplotlib.pyplot as plt\n",
    "import copy\n",
    "\n",
    "from sklearn.preprocessing import MinMaxScaler, StandardScaler\n",
    "from sklearn import mixture\n",
    "\n",
    "from sklearn.model_selection import train_test_split, GridSearchCV\n",
    "from sklearn import svm, linear_model, datasets\n",
    "from sklearn.tree import DecisionTreeClassifier\n",
    "from sklearn import tree\n",
    "from sklearn.neighbors import KNeighborsClassifier\n",
    "from sklearn.metrics import confusion_matrix, precision_score, recall_score, RocCurveDisplay, roc_auc_score\n",
    "\n",
    "from sklearn.ensemble import RandomForestClassifier\n",
    "from sklearn.ensemble import StackingClassifier\n",
    "from sklearn.ensemble import GradientBoostingClassifier\n",
    "from sklearn.tree import export_text\n",
    "\n",
    "import warnings\n",
    "warnings. filterwarnings('ignore')"
   ]
  },
  {
   "cell_type": "markdown",
   "id": "91c1f26d",
   "metadata": {},
   "source": [
    "### B. Loading Data\n",
    "The dataset was downloaded from [Kaggle](https://www.kaggle.com/datasets/kamilpytlak/personal-key-indicators-of-heart-disease?resource=download): `heart_2020_cleaned.csv`"
   ]
  },
  {
   "cell_type": "code",
   "execution_count": 2,
   "id": "e3522aef",
   "metadata": {
    "scrolled": true
   },
   "outputs": [
    {
     "data": {
      "text/html": [
       "<div>\n",
       "<style scoped>\n",
       "    .dataframe tbody tr th:only-of-type {\n",
       "        vertical-align: middle;\n",
       "    }\n",
       "\n",
       "    .dataframe tbody tr th {\n",
       "        vertical-align: top;\n",
       "    }\n",
       "\n",
       "    .dataframe thead th {\n",
       "        text-align: right;\n",
       "    }\n",
       "</style>\n",
       "<table border=\"1\" class=\"dataframe\">\n",
       "  <thead>\n",
       "    <tr style=\"text-align: right;\">\n",
       "      <th></th>\n",
       "      <th>HeartDisease</th>\n",
       "      <th>BMI</th>\n",
       "      <th>Smoking</th>\n",
       "      <th>AlcoholDrinking</th>\n",
       "      <th>Stroke</th>\n",
       "      <th>PhysicalHealth</th>\n",
       "      <th>MentalHealth</th>\n",
       "      <th>DiffWalking</th>\n",
       "      <th>Sex</th>\n",
       "      <th>AgeCategory</th>\n",
       "      <th>Race</th>\n",
       "      <th>Diabetic</th>\n",
       "      <th>PhysicalActivity</th>\n",
       "      <th>GenHealth</th>\n",
       "      <th>SleepTime</th>\n",
       "      <th>Asthma</th>\n",
       "      <th>KidneyDisease</th>\n",
       "      <th>SkinCancer</th>\n",
       "    </tr>\n",
       "  </thead>\n",
       "  <tbody>\n",
       "    <tr>\n",
       "      <th>0</th>\n",
       "      <td>No</td>\n",
       "      <td>16.60</td>\n",
       "      <td>Yes</td>\n",
       "      <td>No</td>\n",
       "      <td>No</td>\n",
       "      <td>3.0</td>\n",
       "      <td>30.0</td>\n",
       "      <td>No</td>\n",
       "      <td>Female</td>\n",
       "      <td>55-59</td>\n",
       "      <td>White</td>\n",
       "      <td>Yes</td>\n",
       "      <td>Yes</td>\n",
       "      <td>Very good</td>\n",
       "      <td>5.0</td>\n",
       "      <td>Yes</td>\n",
       "      <td>No</td>\n",
       "      <td>Yes</td>\n",
       "    </tr>\n",
       "    <tr>\n",
       "      <th>1</th>\n",
       "      <td>No</td>\n",
       "      <td>20.34</td>\n",
       "      <td>No</td>\n",
       "      <td>No</td>\n",
       "      <td>Yes</td>\n",
       "      <td>0.0</td>\n",
       "      <td>0.0</td>\n",
       "      <td>No</td>\n",
       "      <td>Female</td>\n",
       "      <td>80 or older</td>\n",
       "      <td>White</td>\n",
       "      <td>No</td>\n",
       "      <td>Yes</td>\n",
       "      <td>Very good</td>\n",
       "      <td>7.0</td>\n",
       "      <td>No</td>\n",
       "      <td>No</td>\n",
       "      <td>No</td>\n",
       "    </tr>\n",
       "    <tr>\n",
       "      <th>2</th>\n",
       "      <td>No</td>\n",
       "      <td>26.58</td>\n",
       "      <td>Yes</td>\n",
       "      <td>No</td>\n",
       "      <td>No</td>\n",
       "      <td>20.0</td>\n",
       "      <td>30.0</td>\n",
       "      <td>No</td>\n",
       "      <td>Male</td>\n",
       "      <td>65-69</td>\n",
       "      <td>White</td>\n",
       "      <td>Yes</td>\n",
       "      <td>Yes</td>\n",
       "      <td>Fair</td>\n",
       "      <td>8.0</td>\n",
       "      <td>Yes</td>\n",
       "      <td>No</td>\n",
       "      <td>No</td>\n",
       "    </tr>\n",
       "  </tbody>\n",
       "</table>\n",
       "</div>"
      ],
      "text/plain": [
       "  HeartDisease    BMI Smoking AlcoholDrinking Stroke  PhysicalHealth  \\\n",
       "0           No  16.60     Yes              No     No             3.0   \n",
       "1           No  20.34      No              No    Yes             0.0   \n",
       "2           No  26.58     Yes              No     No            20.0   \n",
       "\n",
       "   MentalHealth DiffWalking     Sex  AgeCategory   Race Diabetic  \\\n",
       "0          30.0          No  Female        55-59  White      Yes   \n",
       "1           0.0          No  Female  80 or older  White       No   \n",
       "2          30.0          No    Male        65-69  White      Yes   \n",
       "\n",
       "  PhysicalActivity  GenHealth  SleepTime Asthma KidneyDisease SkinCancer  \n",
       "0              Yes  Very good        5.0    Yes            No        Yes  \n",
       "1              Yes  Very good        7.0     No            No         No  \n",
       "2              Yes       Fair        8.0    Yes            No         No  "
      ]
     },
     "execution_count": 2,
     "metadata": {},
     "output_type": "execute_result"
    }
   ],
   "source": [
    "df = pd.read_csv(\"heart_2020_cleaned.csv\")\n",
    "df.head(3)"
   ]
  },
  {
   "cell_type": "markdown",
   "id": "152f6ccf",
   "metadata": {},
   "source": [
    "### C. Cleaning Data\n",
    "#### 1. Check NA Values\n",
    "No NA values was found."
   ]
  },
  {
   "cell_type": "code",
   "execution_count": 3,
   "id": "dd574822",
   "metadata": {},
   "outputs": [
    {
     "data": {
      "text/plain": [
       "HeartDisease        False\n",
       "BMI                 False\n",
       "Smoking             False\n",
       "AlcoholDrinking     False\n",
       "Stroke              False\n",
       "PhysicalHealth      False\n",
       "MentalHealth        False\n",
       "DiffWalking         False\n",
       "Sex                 False\n",
       "AgeCategory         False\n",
       "Race                False\n",
       "Diabetic            False\n",
       "PhysicalActivity    False\n",
       "GenHealth           False\n",
       "SleepTime           False\n",
       "Asthma              False\n",
       "KidneyDisease       False\n",
       "SkinCancer          False\n",
       "dtype: bool"
      ]
     },
     "execution_count": 3,
     "metadata": {},
     "output_type": "execute_result"
    }
   ],
   "source": [
    "df.isna().any()"
   ]
  },
  {
   "cell_type": "markdown",
   "id": "c8d73bcf",
   "metadata": {},
   "source": [
    "#### 2. Check all unique values of each variable\n",
    "Doing so gives us a sense of necessary data conversion needed.\n",
    "By checking unique values of each variable, we can see that:\n",
    "<ul>\n",
    "    <li>Diabetic has 2 abnormal values (not Yes and No)</li>\n",
    "    <li>AgeCategory, Race, and GenHealth have multiple categorical values</li>\n",
    "</ul>"
   ]
  },
  {
   "cell_type": "code",
   "execution_count": 4,
   "id": "84420c30",
   "metadata": {},
   "outputs": [
    {
     "name": "stdout",
     "output_type": "stream",
     "text": [
      "HeartDisease: ['No' 'Yes']\n",
      "BMI: [16.6  20.34 26.58 ... 62.42 51.46 46.56]\n",
      "Smoking: ['Yes' 'No']\n",
      "AlcoholDrinking: ['No' 'Yes']\n",
      "Stroke: ['No' 'Yes']\n",
      "PhysicalHealth: [ 3.  0. 20. 28.  6. 15.  5. 30.  7.  1.  2. 21.  4. 10. 14. 18.  8. 25.\n",
      " 16. 29. 27. 17. 24. 12. 23. 26. 22. 19.  9. 13. 11.]\n",
      "MentalHealth: [30.  0.  2.  5. 15.  8.  4.  3. 10. 14. 20.  1.  7. 24.  9. 28. 16. 12.\n",
      "  6. 25. 17. 18. 21. 29. 22. 13. 23. 27. 26. 11. 19.]\n",
      "DiffWalking: ['No' 'Yes']\n",
      "Sex: ['Female' 'Male']\n",
      "AgeCategory: ['55-59' '80 or older' '65-69' '75-79' '40-44' '70-74' '60-64' '50-54'\n",
      " '45-49' '18-24' '35-39' '30-34' '25-29']\n",
      "Race: ['White' 'Black' 'Asian' 'American Indian/Alaskan Native' 'Other'\n",
      " 'Hispanic']\n",
      "Diabetic: ['Yes' 'No' 'No, borderline diabetes' 'Yes (during pregnancy)']\n",
      "PhysicalActivity: ['Yes' 'No']\n",
      "GenHealth: ['Very good' 'Fair' 'Good' 'Poor' 'Excellent']\n",
      "SleepTime: [ 5.  7.  8.  6. 12.  4.  9. 10. 15.  3.  2.  1. 16. 18. 14. 20. 11. 13.\n",
      " 17. 24. 19. 21. 22. 23.]\n",
      "Asthma: ['Yes' 'No']\n",
      "KidneyDisease: ['No' 'Yes']\n",
      "SkinCancer: ['Yes' 'No']\n"
     ]
    }
   ],
   "source": [
    "for col in df:\n",
    "    print(f'{col}: {df[col].unique()}')"
   ]
  },
  {
   "cell_type": "markdown",
   "id": "bd84a380",
   "metadata": {},
   "source": [
    "#### 3. Data Conversion\n",
    "For the 11 binary variables, I replaced their binary values with 0’s and 1’s.<br>\n",
    "There were three multi-categorical variables: `AgeCategory`, `GenHealth`, and `Race`. \n",
    "<ul>\n",
    "    <li>The <b>Age</b> variable is binned by 5-year bins and is ordinal, so I de-binned them using an average of each bin's bottom and top ages to retain its characteristics.</li>\n",
    "    <li>The <b>Race</b> variable is nominal, so I used one-hot encoding to handle it.</li>\n",
    "    <li>The <b>General Health</b> variable has both ordinal and nominal characteristics and hence, is more complicated than the Age and Race. Scaling its values from 1 to 5 does not reflect well the relationship among five categorical values. For this reason, I used the weight of evidence (WOE) method to encode values of General Health.</li>\n",
    "</ul>"
   ]
  },
  {
   "cell_type": "markdown",
   "id": "2c888541",
   "metadata": {},
   "source": [
    "##### 3.1 Let's encode binary variables"
   ]
  },
  {
   "cell_type": "code",
   "execution_count": 5,
   "id": "61124f61",
   "metadata": {
    "scrolled": true
   },
   "outputs": [],
   "source": [
    "df.replace(('Yes', 'No'), (1,0), inplace=True)\n",
    "df.replace(('Yes (during pregnancy)', 'No, borderline diabetes'), (1,0), inplace=True)\n",
    "df.replace(('Male', 'Female'), (1,0), inplace=True)"
   ]
  },
  {
   "cell_type": "markdown",
   "id": "408fa5fa",
   "metadata": {},
   "source": [
    "##### 3.2 One-hot encoding `Race`"
   ]
  },
  {
   "cell_type": "code",
   "execution_count": 6,
   "id": "2bee7d98",
   "metadata": {},
   "outputs": [],
   "source": [
    "# Create a copy of original data frame\n",
    "df_copy = copy.copy(df)"
   ]
  },
  {
   "cell_type": "code",
   "execution_count": 7,
   "id": "f3654f59",
   "metadata": {},
   "outputs": [
    {
     "data": {
      "text/html": [
       "<div>\n",
       "<style scoped>\n",
       "    .dataframe tbody tr th:only-of-type {\n",
       "        vertical-align: middle;\n",
       "    }\n",
       "\n",
       "    .dataframe tbody tr th {\n",
       "        vertical-align: top;\n",
       "    }\n",
       "\n",
       "    .dataframe thead th {\n",
       "        text-align: right;\n",
       "    }\n",
       "</style>\n",
       "<table border=\"1\" class=\"dataframe\">\n",
       "  <thead>\n",
       "    <tr style=\"text-align: right;\">\n",
       "      <th></th>\n",
       "      <th>HeartDisease</th>\n",
       "      <th>BMI</th>\n",
       "      <th>Smoking</th>\n",
       "      <th>AlcoholDrinking</th>\n",
       "      <th>Stroke</th>\n",
       "      <th>PhysicalHealth</th>\n",
       "      <th>MentalHealth</th>\n",
       "      <th>DiffWalking</th>\n",
       "      <th>Sex</th>\n",
       "      <th>AgeCategory</th>\n",
       "      <th>...</th>\n",
       "      <th>SleepTime</th>\n",
       "      <th>Asthma</th>\n",
       "      <th>KidneyDisease</th>\n",
       "      <th>SkinCancer</th>\n",
       "      <th>American Indian/Alaskan Native</th>\n",
       "      <th>Asian</th>\n",
       "      <th>Black</th>\n",
       "      <th>Hispanic</th>\n",
       "      <th>Other</th>\n",
       "      <th>White</th>\n",
       "    </tr>\n",
       "  </thead>\n",
       "  <tbody>\n",
       "    <tr>\n",
       "      <th>0</th>\n",
       "      <td>0</td>\n",
       "      <td>16.60</td>\n",
       "      <td>1</td>\n",
       "      <td>0</td>\n",
       "      <td>0</td>\n",
       "      <td>3.0</td>\n",
       "      <td>30.0</td>\n",
       "      <td>0</td>\n",
       "      <td>0</td>\n",
       "      <td>55-59</td>\n",
       "      <td>...</td>\n",
       "      <td>5.0</td>\n",
       "      <td>1</td>\n",
       "      <td>0</td>\n",
       "      <td>1</td>\n",
       "      <td>0</td>\n",
       "      <td>0</td>\n",
       "      <td>0</td>\n",
       "      <td>0</td>\n",
       "      <td>0</td>\n",
       "      <td>1</td>\n",
       "    </tr>\n",
       "    <tr>\n",
       "      <th>1</th>\n",
       "      <td>0</td>\n",
       "      <td>20.34</td>\n",
       "      <td>0</td>\n",
       "      <td>0</td>\n",
       "      <td>1</td>\n",
       "      <td>0.0</td>\n",
       "      <td>0.0</td>\n",
       "      <td>0</td>\n",
       "      <td>0</td>\n",
       "      <td>80 or older</td>\n",
       "      <td>...</td>\n",
       "      <td>7.0</td>\n",
       "      <td>0</td>\n",
       "      <td>0</td>\n",
       "      <td>0</td>\n",
       "      <td>0</td>\n",
       "      <td>0</td>\n",
       "      <td>0</td>\n",
       "      <td>0</td>\n",
       "      <td>0</td>\n",
       "      <td>1</td>\n",
       "    </tr>\n",
       "    <tr>\n",
       "      <th>2</th>\n",
       "      <td>0</td>\n",
       "      <td>26.58</td>\n",
       "      <td>1</td>\n",
       "      <td>0</td>\n",
       "      <td>0</td>\n",
       "      <td>20.0</td>\n",
       "      <td>30.0</td>\n",
       "      <td>0</td>\n",
       "      <td>1</td>\n",
       "      <td>65-69</td>\n",
       "      <td>...</td>\n",
       "      <td>8.0</td>\n",
       "      <td>1</td>\n",
       "      <td>0</td>\n",
       "      <td>0</td>\n",
       "      <td>0</td>\n",
       "      <td>0</td>\n",
       "      <td>0</td>\n",
       "      <td>0</td>\n",
       "      <td>0</td>\n",
       "      <td>1</td>\n",
       "    </tr>\n",
       "  </tbody>\n",
       "</table>\n",
       "<p>3 rows × 23 columns</p>\n",
       "</div>"
      ],
      "text/plain": [
       "   HeartDisease    BMI  Smoking  AlcoholDrinking  Stroke  PhysicalHealth  \\\n",
       "0             0  16.60        1                0       0             3.0   \n",
       "1             0  20.34        0                0       1             0.0   \n",
       "2             0  26.58        1                0       0            20.0   \n",
       "\n",
       "   MentalHealth  DiffWalking  Sex  AgeCategory  ...  SleepTime  Asthma  \\\n",
       "0          30.0            0    0        55-59  ...        5.0       1   \n",
       "1           0.0            0    0  80 or older  ...        7.0       0   \n",
       "2          30.0            0    1        65-69  ...        8.0       1   \n",
       "\n",
       "  KidneyDisease  SkinCancer  American Indian/Alaskan Native  Asian  Black  \\\n",
       "0             0           1                               0      0      0   \n",
       "1             0           0                               0      0      0   \n",
       "2             0           0                               0      0      0   \n",
       "\n",
       "   Hispanic  Other  White  \n",
       "0         0      0      1  \n",
       "1         0      0      1  \n",
       "2         0      0      1  \n",
       "\n",
       "[3 rows x 23 columns]"
      ]
     },
     "execution_count": 7,
     "metadata": {},
     "output_type": "execute_result"
    }
   ],
   "source": [
    "# One-hot encoding Race\n",
    "df_copy = df_copy.join(pd.get_dummies(df_copy['Race'], drop_first=False)) #Keep all newly generated features for classification\n",
    "df_copy = df_copy.drop(columns=\"Race\")\n",
    "df_copy.head(3)"
   ]
  },
  {
   "cell_type": "markdown",
   "id": "fd2b679c",
   "metadata": {},
   "source": [
    "##### 3.2 WOE encoding `GenHealth`\n",
    "Read more about WOE (Weight of Evidence) method [here](https://towardsdatascience.com/all-about-categorical-variable-encoding-305f3361fd02).<br>\n",
    "<b>Step 1</b>: Let's calculate the probability of HeartDisease = 1 (Yes) for each category of GenHealth:"
   ]
  },
  {
   "cell_type": "code",
   "execution_count": 8,
   "id": "5b3c53ab",
   "metadata": {},
   "outputs": [
    {
     "data": {
      "text/html": [
       "<div>\n",
       "<style scoped>\n",
       "    .dataframe tbody tr th:only-of-type {\n",
       "        vertical-align: middle;\n",
       "    }\n",
       "\n",
       "    .dataframe tbody tr th {\n",
       "        vertical-align: top;\n",
       "    }\n",
       "\n",
       "    .dataframe thead th {\n",
       "        text-align: right;\n",
       "    }\n",
       "</style>\n",
       "<table border=\"1\" class=\"dataframe\">\n",
       "  <thead>\n",
       "    <tr style=\"text-align: right;\">\n",
       "      <th></th>\n",
       "      <th>HeartDisease_Yes</th>\n",
       "    </tr>\n",
       "    <tr>\n",
       "      <th>GenHealth</th>\n",
       "      <th></th>\n",
       "    </tr>\n",
       "  </thead>\n",
       "  <tbody>\n",
       "    <tr>\n",
       "      <th>Excellent</th>\n",
       "      <td>0.022441</td>\n",
       "    </tr>\n",
       "    <tr>\n",
       "      <th>Fair</th>\n",
       "      <td>0.204285</td>\n",
       "    </tr>\n",
       "    <tr>\n",
       "      <th>Good</th>\n",
       "      <td>0.102632</td>\n",
       "    </tr>\n",
       "    <tr>\n",
       "      <th>Poor</th>\n",
       "      <td>0.341040</td>\n",
       "    </tr>\n",
       "    <tr>\n",
       "      <th>Very good</th>\n",
       "      <td>0.047261</td>\n",
       "    </tr>\n",
       "  </tbody>\n",
       "</table>\n",
       "</div>"
      ],
      "text/plain": [
       "           HeartDisease_Yes\n",
       "GenHealth                  \n",
       "Excellent          0.022441\n",
       "Fair               0.204285\n",
       "Good               0.102632\n",
       "Poor               0.341040\n",
       "Very good          0.047261"
      ]
     },
     "execution_count": 8,
     "metadata": {},
     "output_type": "execute_result"
    }
   ],
   "source": [
    "woe_df_copy = df_copy.groupby('GenHealth')['HeartDisease'].mean()\n",
    "woe_df_copy = pd.DataFrame(woe_df_copy)\n",
    "# Rename col name to HeartDisease_Yes\n",
    "woe_df_copy = woe_df_copy.rename(columns = {'HeartDisease':'HeartDisease_Yes'})\n",
    "woe_df_copy"
   ]
  },
  {
   "cell_type": "markdown",
   "id": "b3d8ad4d",
   "metadata": {},
   "source": [
    "<b>Step 2</b>: Let's calculate the probability of HeartDisease = 0:"
   ]
  },
  {
   "cell_type": "code",
   "execution_count": 9,
   "id": "2e3dd8d4",
   "metadata": {},
   "outputs": [
    {
     "data": {
      "text/html": [
       "<div>\n",
       "<style scoped>\n",
       "    .dataframe tbody tr th:only-of-type {\n",
       "        vertical-align: middle;\n",
       "    }\n",
       "\n",
       "    .dataframe tbody tr th {\n",
       "        vertical-align: top;\n",
       "    }\n",
       "\n",
       "    .dataframe thead th {\n",
       "        text-align: right;\n",
       "    }\n",
       "</style>\n",
       "<table border=\"1\" class=\"dataframe\">\n",
       "  <thead>\n",
       "    <tr style=\"text-align: right;\">\n",
       "      <th></th>\n",
       "      <th>HeartDisease_Yes</th>\n",
       "      <th>HeartDisease_No</th>\n",
       "    </tr>\n",
       "    <tr>\n",
       "      <th>GenHealth</th>\n",
       "      <th></th>\n",
       "      <th></th>\n",
       "    </tr>\n",
       "  </thead>\n",
       "  <tbody>\n",
       "    <tr>\n",
       "      <th>Excellent</th>\n",
       "      <td>0.022441</td>\n",
       "      <td>0.977559</td>\n",
       "    </tr>\n",
       "    <tr>\n",
       "      <th>Fair</th>\n",
       "      <td>0.204285</td>\n",
       "      <td>0.795715</td>\n",
       "    </tr>\n",
       "    <tr>\n",
       "      <th>Good</th>\n",
       "      <td>0.102632</td>\n",
       "      <td>0.897368</td>\n",
       "    </tr>\n",
       "    <tr>\n",
       "      <th>Poor</th>\n",
       "      <td>0.341040</td>\n",
       "      <td>0.658960</td>\n",
       "    </tr>\n",
       "    <tr>\n",
       "      <th>Very good</th>\n",
       "      <td>0.047261</td>\n",
       "      <td>0.952739</td>\n",
       "    </tr>\n",
       "  </tbody>\n",
       "</table>\n",
       "</div>"
      ],
      "text/plain": [
       "           HeartDisease_Yes  HeartDisease_No\n",
       "GenHealth                                   \n",
       "Excellent          0.022441         0.977559\n",
       "Fair               0.204285         0.795715\n",
       "Good               0.102632         0.897368\n",
       "Poor               0.341040         0.658960\n",
       "Very good          0.047261         0.952739"
      ]
     },
     "execution_count": 9,
     "metadata": {},
     "output_type": "execute_result"
    }
   ],
   "source": [
    "woe_df_copy['HeartDisease_No'] = 1 - woe_df_copy.HeartDisease_Yes\n",
    "woe_df_copy"
   ]
  },
  {
   "cell_type": "markdown",
   "id": "db792580",
   "metadata": {},
   "source": [
    "<b>Step 3</b>: Let's compute WoE"
   ]
  },
  {
   "cell_type": "code",
   "execution_count": 10,
   "id": "b3b02e36",
   "metadata": {},
   "outputs": [
    {
     "data": {
      "text/html": [
       "<div>\n",
       "<style scoped>\n",
       "    .dataframe tbody tr th:only-of-type {\n",
       "        vertical-align: middle;\n",
       "    }\n",
       "\n",
       "    .dataframe tbody tr th {\n",
       "        vertical-align: top;\n",
       "    }\n",
       "\n",
       "    .dataframe thead th {\n",
       "        text-align: right;\n",
       "    }\n",
       "</style>\n",
       "<table border=\"1\" class=\"dataframe\">\n",
       "  <thead>\n",
       "    <tr style=\"text-align: right;\">\n",
       "      <th></th>\n",
       "      <th>HeartDisease_Yes</th>\n",
       "      <th>HeartDisease_No</th>\n",
       "      <th>WOE</th>\n",
       "    </tr>\n",
       "    <tr>\n",
       "      <th>GenHealth</th>\n",
       "      <th></th>\n",
       "      <th></th>\n",
       "      <th></th>\n",
       "    </tr>\n",
       "  </thead>\n",
       "  <tbody>\n",
       "    <tr>\n",
       "      <th>Excellent</th>\n",
       "      <td>0.022441</td>\n",
       "      <td>0.977559</td>\n",
       "      <td>-3.774170</td>\n",
       "    </tr>\n",
       "    <tr>\n",
       "      <th>Fair</th>\n",
       "      <td>0.204285</td>\n",
       "      <td>0.795715</td>\n",
       "      <td>-1.359723</td>\n",
       "    </tr>\n",
       "    <tr>\n",
       "      <th>Good</th>\n",
       "      <td>0.102632</td>\n",
       "      <td>0.897368</td>\n",
       "      <td>-2.168318</td>\n",
       "    </tr>\n",
       "    <tr>\n",
       "      <th>Poor</th>\n",
       "      <td>0.341040</td>\n",
       "      <td>0.658960</td>\n",
       "      <td>-0.658663</td>\n",
       "    </tr>\n",
       "    <tr>\n",
       "      <th>Very good</th>\n",
       "      <td>0.047261</td>\n",
       "      <td>0.952739</td>\n",
       "      <td>-3.003664</td>\n",
       "    </tr>\n",
       "  </tbody>\n",
       "</table>\n",
       "</div>"
      ],
      "text/plain": [
       "           HeartDisease_Yes  HeartDisease_No       WOE\n",
       "GenHealth                                             \n",
       "Excellent          0.022441         0.977559 -3.774170\n",
       "Fair               0.204285         0.795715 -1.359723\n",
       "Good               0.102632         0.897368 -2.168318\n",
       "Poor               0.341040         0.658960 -0.658663\n",
       "Very good          0.047261         0.952739 -3.003664"
      ]
     },
     "execution_count": 10,
     "metadata": {},
     "output_type": "execute_result"
    }
   ],
   "source": [
    "woe_df_copy['WOE'] = np.log(woe_df_copy.HeartDisease_Yes/woe_df_copy.HeartDisease_No)\n",
    "woe_df_copy"
   ]
  },
  {
   "cell_type": "markdown",
   "id": "c7d2b533",
   "metadata": {},
   "source": [
    "<b>Step 4</b>: Map `GenHealth` values with their respective WOE values"
   ]
  },
  {
   "cell_type": "code",
   "execution_count": 11,
   "id": "5af05e14",
   "metadata": {},
   "outputs": [],
   "source": [
    "df_copy.loc[:,'GenHealth_encoded'] = df_copy['GenHealth'].map(woe_df_copy['WOE'])\n",
    "df_copy = df_copy.drop(columns=\"GenHealth\")"
   ]
  },
  {
   "cell_type": "markdown",
   "id": "524dc32d",
   "metadata": {},
   "source": [
    "##### 3.3 Encoding `AgeCategory`"
   ]
  },
  {
   "cell_type": "code",
   "execution_count": 12,
   "id": "7c3a9cbd",
   "metadata": {},
   "outputs": [],
   "source": [
    "new_ages = []\n",
    "for age_group in df_copy[\"AgeCategory\"]:\n",
    "    low_age = int(age_group[:2]) # The 2 first characters\n",
    "    if low_age == 80:\n",
    "        new_ages.append(low_age)\n",
    "    else:\n",
    "        high_age = int(age_group[-2:]) # The 2 last characters\n",
    "        mid_age = (low_age + high_age) / 2\n",
    "        new_ages.append(mid_age)\n",
    "        \n",
    "# Adding new_ages to df_copy and remove AgeCategory\n",
    "df_copy[\"UpdatedAges\"] = new_ages\n",
    "df_copy = df_copy.drop(columns=\"AgeCategory\")"
   ]
  },
  {
   "cell_type": "markdown",
   "id": "f0e2adb4",
   "metadata": {},
   "source": [
    "#### 4. Check correlation among feature variables\n",
    "After encoding all variables, I found no significant correlations. Therefore, from the statistical point of view, we could keep all variables when modeling."
   ]
  },
  {
   "cell_type": "code",
   "execution_count": 14,
   "id": "f34a45e2",
   "metadata": {},
   "outputs": [
    {
     "data": {
      "image/png": "[encoded data removed]",
      "text/plain": [
       "<Figure size 576x432 with 2 Axes>"
      ]
     },
     "metadata": {
      "needs_background": "light"
     },
     "output_type": "display_data"
    }
   ],
   "source": [
    "corr = df_copy.corr()\n",
    "fig = plt.figure(figsize=(8, 6))\n",
    "ax = fig.add_subplot(111)\n",
    "cax = ax.matshow(corr,cmap='coolwarm', vmin=-1, vmax=1)\n",
    "fig.colorbar(cax)\n",
    "ticks = np.arange(0,len(df_copy.columns),1)\n",
    "ax.set_xticks(ticks)\n",
    "plt.xticks(rotation=90, fontsize=12, color = 'k')\n",
    "plt.yticks(fontsize=12, color = 'k')\n",
    "ax.set_yticks(ticks)\n",
    "ax.set_xticklabels(df_copy.columns, color = 'k')\n",
    "ax.set_yticklabels(df_copy.columns, color = 'k')\n",
    "plt.show()"
   ]
  },
  {
   "cell_type": "markdown",
   "id": "b58eca2f",
   "metadata": {},
   "source": [
    "### D. Modeling "
   ]
  },
  {
   "cell_type": "markdown",
   "id": "897cf5d2",
   "metadata": {},
   "source": [
    "Using encoded variables and splitting them into 80% training, 10% validation, and 10% testing sets with stratify = y, I then tried multiple models and the grid search method to find the models and parameters that performed the best. Since the label variable and majority of the feature variables are categorical/binary variables, I tried classification models only."
   ]
  },
  {
   "cell_type": "code",
   "execution_count": 15,
   "id": "d7f74b55",
   "metadata": {},
   "outputs": [],
   "source": [
    "# retrieve the array of data\n",
    "data = df_copy.values\n",
    "# set HeartDisease as y variable\n",
    "y = data[:,0]\n",
    "X = data[:,1:] #all other variables\n",
    "# split the dataset into train, validation, and test sets\n",
    "X_train, X_tmp, y_train, y_tmp = train_test_split(X, y, test_size=.2, random_state=0, stratify=y)\n",
    "X_valid, X_test, y_valid, y_test = train_test_split(X_tmp, y_tmp, test_size=.5,random_state=0, stratify=y_tmp)"
   ]
  },
  {
   "cell_type": "markdown",
   "id": "59786613",
   "metadata": {},
   "source": [
    "#### 1. Experimenting with Random Forest, Logistic Regression, and Decision Tree\n",
    "<ul>\n",
    "    <li><b>Logistic Regression</b> with C = 100 and max_tier = 5,000 produced the <b>highest accuracy of 0.917</b>.</li>\n",
    "    <li><b>Decision Tree</b> with max_depth = [1, 3, None] gave a pretty close accuracy to Logistic Regression, but its <b>best parameter for max_depth was 1</b>, which was <b>not valuable</b> in classifying features.</li>\n",
    "</ul>"
   ]
  },
  {
   "cell_type": "code",
   "execution_count": 16,
   "id": "da3cf67d",
   "metadata": {},
   "outputs": [],
   "source": [
    "classifiers = {0: (RandomForestClassifier()),\n",
    "               1: (linear_model.LogisticRegression()),\n",
    "               2: (DecisionTreeClassifier())}\n",
    "parameters = {0: {'n_estimators': [5,10,100], 'random_state': [0]},\n",
    "              1: {'max_iter': [5000], 'C':[0.01,1,100]},\n",
    "              2: {'criterion': ['entropy'], 'max_depth':[1,3,None]}}"
   ]
  },
  {
   "cell_type": "code",
   "execution_count": 17,
   "id": "05fdc712",
   "metadata": {},
   "outputs": [
    {
     "name": "stdout",
     "output_type": "stream",
     "text": [
      "Classifier RandomForestClassifier() has a best accuracy score of 0.905\n",
      "Its respective best parameters = {'n_estimators': 100, 'random_state': 0}\n",
      "Classifier LogisticRegression() has a best accuracy score of 0.917\n",
      "Its respective best parameters = {'C': 100, 'max_iter': 5000}\n",
      "Classifier DecisionTreeClassifier() has a best accuracy score of 0.914\n",
      "Its respective best parameters = {'criterion': 'entropy', 'max_depth': 1}\n"
     ]
    }
   ],
   "source": [
    "for i in np.arange(0,len(classifiers)):\n",
    "    model = GridSearchCV(classifiers[i], parameters[i]).fit(X_train, y_train)\n",
    "    print(f'Classifier {classifiers[i]} has a best accuracy score of {model.score(X_valid, y_valid):.3}')\n",
    "    print(f'Its respective best parameters = {model.best_params_}') "
   ]
  },
  {
   "cell_type": "markdown",
   "id": "95c57d98",
   "metadata": {},
   "source": [
    "#### 2. Experimenting with Stacking Models\n",
    "Stacking models introduced <b>worse accuracies</b> than running each model independently. \n",
    "##### 2.1 Stacking 1st layer estimator = Logistic Regression and final estimator = Random Forest"
   ]
  },
  {
   "cell_type": "code",
   "execution_count": 18,
   "id": "b1c1be11",
   "metadata": {},
   "outputs": [
    {
     "data": {
      "text/plain": [
       "0.8730104130835861"
      ]
     },
     "execution_count": 18,
     "metadata": {},
     "output_type": "execute_result"
    }
   ],
   "source": [
    "estimators = [('logistic', linear_model.LogisticRegression(max_iter=5000, C = 100))]\n",
    "\n",
    "clf = StackingClassifier(estimators=estimators, final_estimator=RandomForestClassifier(n_estimators=100, random_state=0))\n",
    "clf.fit(X_train, y_train).score(X_valid, y_valid)"
   ]
  },
  {
   "cell_type": "markdown",
   "id": "7da41f34",
   "metadata": {},
   "source": [
    "##### 2.2 Stacking 1st layer estimator = Random Forest and final estimator = Logistic Regression"
   ]
  },
  {
   "cell_type": "code",
   "execution_count": 19,
   "id": "c3938354",
   "metadata": {},
   "outputs": [
    {
     "data": {
      "text/plain": [
       "0.9094718408955877"
      ]
     },
     "execution_count": 19,
     "metadata": {},
     "output_type": "execute_result"
    }
   ],
   "source": [
    "estimators = [('randomForest', RandomForestClassifier(n_estimators=100, random_state=0))]\n",
    "\n",
    "clf = StackingClassifier(estimators=estimators, final_estimator=linear_model.LogisticRegression(max_iter=5000, C = 100))\n",
    "clf.fit(X_train, y_train).score(X_valid, y_valid)"
   ]
  },
  {
   "cell_type": "markdown",
   "id": "fcf38ceb",
   "metadata": {},
   "source": [
    "##### 2.2 Stacking 1st layer estimator = Decision Tree and final estimator = Logistic Regression"
   ]
  },
  {
   "cell_type": "code",
   "execution_count": 20,
   "id": "311fa3b2",
   "metadata": {},
   "outputs": [
    {
     "data": {
      "text/plain": [
       "0.9144125832577629"
      ]
     },
     "execution_count": 20,
     "metadata": {},
     "output_type": "execute_result"
    }
   ],
   "source": [
    "estimators = [('decisionTree', DecisionTreeClassifier(criterion=\"entropy\", max_depth = 1))]\n",
    "\n",
    "clf = StackingClassifier(estimators=estimators, final_estimator=linear_model.LogisticRegression(max_iter=5000, C = 100))\n",
    "clf.fit(X_train, y_train).score(X_valid, y_valid)"
   ]
  },
  {
   "cell_type": "markdown",
   "id": "14f18b58",
   "metadata": {},
   "source": [
    "#### 3. Experimenting with Gradient Boosting Classifier"
   ]
  },
  {
   "cell_type": "markdown",
   "id": "f8b11ae6",
   "metadata": {},
   "source": [
    "Gradient Boosting also produced a good accuracy when I tested it on the four most important factors (from experts’ view): `Smoking`, `Diabetic`, `Age`, and `Sex`. But it's still <b>less accurate</b> than the Logistic Regession model. Gradient Boosting fell when I ran this model on all variables because of the too large data."
   ]
  },
  {
   "cell_type": "code",
   "execution_count": 21,
   "id": "9fc8ee31",
   "metadata": {},
   "outputs": [],
   "source": [
    "# set HeartDisease as y variable\n",
    "y = df_copy.HeartDisease\n",
    "X = df_copy[['Smoking','Diabetic','UpdatedAges','Sex']]\n",
    "# split the dataset into train, validation, and test sets\n",
    "X_train, X_tmp, y_train, y_tmp = train_test_split(X, y, test_size=.2, random_state=0, stratify=y)\n",
    "X_valid, X_test, y_valid, y_test = train_test_split(X_tmp, y_tmp, test_size=.5,random_state=0, stratify=y_tmp)"
   ]
  },
  {
   "cell_type": "code",
   "execution_count": 22,
   "id": "e70a36bd",
   "metadata": {},
   "outputs": [
    {
     "name": "stdout",
     "output_type": "stream",
     "text": [
      "Classifier GradientBoostingClassifier() has a best accuracy score of 0.9144125832577629\n",
      "Its respective best parameters = {'learning_rate': 0.1, 'max_depth': None, 'n_estimators': 10, 'random_state': 0}\n"
     ]
    }
   ],
   "source": [
    "classifiers = {0: (GradientBoostingClassifier())}\n",
    "parameters = {0:{'n_estimators': [10,100], 'learning_rate': [0.1, 1.0], 'max_depth': [None], 'random_state': [0]}}\n",
    "for i in np.arange(0,len(classifiers)):\n",
    "    model = GridSearchCV(classifiers[i], parameters[i]).fit(X_train, y_train)\n",
    "    print(f'Classifier {classifiers[i]} has a best accuracy score of {model.score(X_valid, y_valid)}')\n",
    "    print(f'Its respective best parameters = {model.best_params_}') "
   ]
  },
  {
   "cell_type": "markdown",
   "id": "a6cbbb77",
   "metadata": {},
   "source": [
    "#### 4. Experimenting with K-NN \n",
    "When running on all variables, K-NN model faced the same problem as Gradient Boosting. And when testing on the same set of variables with Gradient Boosting experiment, with 3 and 4 neighbors, k-NN’s accuracy was worse than Gradient Boosting’s."
   ]
  },
  {
   "cell_type": "code",
   "execution_count": 23,
   "id": "b38da2b1",
   "metadata": {},
   "outputs": [
    {
     "name": "stdout",
     "output_type": "stream",
     "text": [
      "Classifier KNeighborsClassifier() has a best accuracy score of 0.9044372869695738\n",
      "Its respective best parameters = {'metric': 'euclidean', 'n_neighbors': 4}\n"
     ]
    }
   ],
   "source": [
    "classifiers = {0: (KNeighborsClassifier())}\n",
    "parameters = {0: {'metric': ['euclidean'], 'n_neighbors': [3,4]}}\n",
    "for i in np.arange(0,len(classifiers)):\n",
    "    model = GridSearchCV(classifiers[i], parameters[i]).fit(X_train, y_train)\n",
    "    print(f'Classifier {classifiers[i]} has a best accuracy score of {model.score(X_valid, y_valid)}')\n",
    "    print(f'Its respective best parameters = {model.best_params_}')"
   ]
  },
  {
   "cell_type": "markdown",
   "id": "0216aecd",
   "metadata": {},
   "source": [
    "### E. Model Evaluation\n",
    "From part D. Modeling, <b>Logistic Regression</b> is the <b>best model</b>. I used the model’s <b>ROC curve</b> and the <b>false-negative rate</b> to evaluate the model result. Minimizing the false-negative rate is critical because a false-negative result means missing out on a positive diagnosis of heart disease.  This ignored diagnosis would leave the individual to forgo care that could help to reduce the burden of their condition.  "
   ]
  },
  {
   "cell_type": "markdown",
   "id": "9bd7128f",
   "metadata": {},
   "source": [
    "##### 1. Should we include all variables or not?\n",
    "Firstly, let's try our model on the first two features `BMI` and `Smoking`: False-negative rate is 1.0."
   ]
  },
  {
   "cell_type": "code",
   "execution_count": 24,
   "id": "f2c65395",
   "metadata": {},
   "outputs": [
    {
     "name": "stdout",
     "output_type": "stream",
     "text": [
      "df:\n",
      "       0  1\n",
      "0  29242  0\n",
      "1   2737  0\n",
      "\n",
      "TN: 29242, FP: 0, FN: 2737, TP: 0\n",
      "\n",
      "TPR=0.0, FPR=0.0, FNR=1.0\n"
     ]
    },
    {
     "data": {
      "image/png": "[encoded data removed]",
      "text/plain": [
       "<Figure size 432x288 with 1 Axes>"
      ]
     },
     "metadata": {
      "needs_background": "light"
     },
     "output_type": "display_data"
    }
   ],
   "source": [
    "# set HeartDisease as y variable\n",
    "y = data[:,0]\n",
    "X = data[:,1:3]\n",
    "# split the dataset into train, validation, and test sets\n",
    "X_train, X_tmp, y_train, y_tmp = train_test_split(X, y, test_size=.2, random_state=0, stratify=y)\n",
    "X_valid, X_test, y_valid, y_test = train_test_split(X_tmp, y_tmp, test_size=.5,random_state=0, stratify=y_tmp)\n",
    "\n",
    "clf = linear_model.LogisticRegression(C=100, max_iter=5000)\n",
    "clf.fit(X_train, y_train)\n",
    "y_hat_valid = clf.predict(X_valid)\n",
    "M = confusion_matrix(y_true=y_valid, y_pred=y_hat_valid)\n",
    "# to include row and column labels, put matrix in DataFrame\n",
    "df = pd.DataFrame(data=M) # or pd.DataFrame(data=M, index=['0', '1'], columns=['0', '1'])\n",
    "print(f'df:\\n{df}')\n",
    "# peel off component counts from confusion matrix\n",
    "TN, FP, FN, TP = M.ravel() # .ravel() returns a vector from a matrix\n",
    "print(f'\\nTN: {TN}, FP: {FP}, FN: {FN}, TP: {TP}')\n",
    "TPR = TP / (TP + FN)\n",
    "FPR = FP / (FP + TN)\n",
    "FNR = FN / (FN + TP)\n",
    "print(f'\\nTPR={TPR:.3}, FPR={FPR:.3}, FNR={FNR:.5}')\n",
    "RocCurveDisplay.from_estimator(clf, X_valid, y_valid)\n",
    "plt.plot([0, 1], [0, 1], ':k') # add diagonal line\n",
    "plt.title('ROC Curve')\n",
    "plt.legend()\n",
    "plt.show(block=False)"
   ]
  },
  {
   "cell_type": "markdown",
   "id": "58d6c9e5",
   "metadata": {},
   "source": [
    "Next, let's add two more features `Stroke ` and `AlcoholDrinking`to our model: False-negative rate improved to 0.989."
   ]
  },
  {
   "cell_type": "code",
   "execution_count": 25,
   "id": "c0134a70",
   "metadata": {},
   "outputs": [
    {
     "name": "stdout",
     "output_type": "stream",
     "text": [
      "df:\n",
      "       0   1\n",
      "0  29219  23\n",
      "1   2706  31\n",
      "\n",
      "TN: 29219, FP: 23, FN: 2706, TP: 31\n",
      "\n",
      "TPR=0.0113, FPR=0.000787, FNR=0.98867\n"
     ]
    },
    {
     "data": {
      "image/png": "[encoded data removed]",
      "text/plain": [
       "<Figure size 432x288 with 1 Axes>"
      ]
     },
     "metadata": {
      "needs_background": "light"
     },
     "output_type": "display_data"
    }
   ],
   "source": [
    "# set HeartDisease as y variable\n",
    "y = data[:,0]\n",
    "X = data[:,1:5]\n",
    "# split the dataset into train, validation, and test sets\n",
    "X_train, X_tmp, y_train, y_tmp = train_test_split(X, y, test_size=.2, random_state=0, stratify=y)\n",
    "X_valid, X_test, y_valid, y_test = train_test_split(X_tmp, y_tmp, test_size=.5,random_state=0, stratify=y_tmp)\n",
    "\n",
    "clf = linear_model.LogisticRegression(C=100, max_iter=5000)\n",
    "clf.fit(X_train, y_train)\n",
    "y_hat_valid = clf.predict(X_valid)\n",
    "M = confusion_matrix(y_true=y_valid, y_pred=y_hat_valid)\n",
    "# to include row and column labels, put matrix in DataFrame\n",
    "df = pd.DataFrame(data=M) # or pd.DataFrame(data=M, index=['0', '1'], columns=['0', '1'])\n",
    "print(f'df:\\n{df}')\n",
    "# peel off component counts from confusion matrix\n",
    "TN, FP, FN, TP = M.ravel() # .ravel() returns a vector from a matrix\n",
    "print(f'\\nTN: {TN}, FP: {FP}, FN: {FN}, TP: {TP}')\n",
    "TPR = TP / (TP + FN)\n",
    "FPR = FP / (FP + TN)\n",
    "FNR = FN / (FN + TP)\n",
    "print(f'\\nTPR={TPR:.3}, FPR={FPR:.3}, FNR={FNR:.5}')\n",
    "RocCurveDisplay.from_estimator(clf, X_valid, y_valid)\n",
    "plt.plot([0, 1], [0, 1], ':k') # add diagonal line\n",
    "plt.title('ROC Curve')\n",
    "plt.legend()\n",
    "plt.show(block=False)"
   ]
  },
  {
   "cell_type": "markdown",
   "id": "a7b0b5d1",
   "metadata": {},
   "source": [
    "Lastly, let's run our model on all variables. We got the best ROC with the lowest false-negative of 0.885 among the three tries. So, let's <b>keep all variables</b> in our model."
   ]
  },
  {
   "cell_type": "code",
   "execution_count": 26,
   "id": "0be597d1",
   "metadata": {},
   "outputs": [
    {
     "name": "stdout",
     "output_type": "stream",
     "text": [
      "df:\n",
      "       0    1\n",
      "0  28995  247\n",
      "1   2421  316\n",
      "\n",
      "TN: 28995, FP: 247, FN: 2421, TP: 316\n",
      "\n",
      "TPR=0.115, FPR=0.00845, FNR=0.88455\n"
     ]
    },
    {
     "data": {
      "image/png": "[encoded data removed]",
      "text/plain": [
       "<Figure size 432x288 with 1 Axes>"
      ]
     },
     "metadata": {
      "needs_background": "light"
     },
     "output_type": "display_data"
    }
   ],
   "source": [
    "# set HeartDisease as y variable\n",
    "y = data[:,0]\n",
    "X = data[:,1:]\n",
    "# split the dataset into train, validation, and test sets\n",
    "X_train, X_tmp, y_train, y_tmp = train_test_split(X, y, test_size=.2, random_state=0, stratify=y)\n",
    "X_valid, X_test, y_valid, y_test = train_test_split(X_tmp, y_tmp, test_size=.5,random_state=0, stratify=y_tmp)\n",
    "\n",
    "clf = linear_model.LogisticRegression(C=100, max_iter=5000)\n",
    "clf.fit(X_train, y_train)\n",
    "y_hat_valid = clf.predict(X_valid)\n",
    "M = confusion_matrix(y_true=y_valid, y_pred=y_hat_valid)\n",
    "# to include row and column labels, put matrix in DataFrame\n",
    "df = pd.DataFrame(data=M) # or pd.DataFrame(data=M, index=['0', '1'], columns=['0', '1'])\n",
    "print(f'df:\\n{df}')\n",
    "# peel off component counts from confusion matrix\n",
    "TN, FP, FN, TP = M.ravel() # .ravel() returns a vector from a matrix\n",
    "print(f'\\nTN: {TN}, FP: {FP}, FN: {FN}, TP: {TP}')\n",
    "TPR = TP / (TP + FN)\n",
    "FPR = FP / (FP + TN)\n",
    "FNR = FN / (FN + TP)\n",
    "print(f'\\nTPR={TPR:.3}, FPR={FPR:.3}, FNR={FNR:.5}')\n",
    "RocCurveDisplay.from_estimator(clf, X_valid, y_valid)\n",
    "plt.plot([0, 1], [0, 1], ':k') # add diagonal line\n",
    "plt.title('ROC Curve')\n",
    "plt.legend()\n",
    "plt.show(block=False)"
   ]
  },
  {
   "cell_type": "markdown",
   "id": "2471d750",
   "metadata": {},
   "source": [
    "##### 2. How does our model perform?\n",
    "Now, let's see the confusion matrix associated with our chosen model on the testing data set. While the overall score is relatively high (accuracy = 0.917 - part D.1), our false-negative rate is very high, with only 0.107 of the positive cases correctly predicted. This high rate is due to the dataset’s non-equal positive and negative heart diseases diagnosis samples. We had about 9% of individuals with heart disease in this dataset. It might help improve our model if it was balanced in the dataset.  "
   ]
  },
  {
   "cell_type": "code",
   "execution_count": 28,
   "id": "4a92e5fc",
   "metadata": {},
   "outputs": [
    {
     "name": "stdout",
     "output_type": "stream",
     "text": [
      "df1:\n",
      "       0    1\n",
      "0  28975  267\n",
      "1   2446  292\n",
      "\n",
      "TN: 28975, FP: 267, FN: 2446, TP: 292\n",
      "\n",
      "TPR=0.107, FPR=0.00913, FNR=0.893\n"
     ]
    }
   ],
   "source": [
    "y = y_test\n",
    "y_hat = clf.predict(X_test)\n",
    "M = confusion_matrix(y_true=y, y_pred=y_hat)\n",
    "df1 = pd.DataFrame(data=M)\n",
    "print('df1:')\n",
    "print(df1)\n",
    "TN, FP, FN, TP = M.ravel() # .ravel() returns a vector from a matrix\n",
    "print(f'\\nTN: {TN}, FP: {FP}, FN: {FN}, TP: {TP}')\n",
    "TPR = TP / (TP + FN)\n",
    "FPR = FP / (FP + TN)\n",
    "FNR = FN / (FN + TP)\n",
    "print(f'\\nTPR={TPR:.3}, FPR={FPR:.3}, FNR={FNR:.3}')"
   ]
  },
  {
   "cell_type": "markdown",
   "id": "a3cbb21e",
   "metadata": {},
   "source": [
    "The coefficients obtained from the logistic regression model are as below. `Stroke`, `Sex`, `Race`, `GenHealth`, and `KidneyDisease` appear to be the most critical factors."
   ]
  },
  {
   "cell_type": "code",
   "execution_count": 29,
   "id": "d0ab62d6",
   "metadata": {},
   "outputs": [
    {
     "name": "stdout",
     "output_type": "stream",
     "text": [
      "                         Variables  Coeficients\n",
      "0                              BMI     0.008712\n",
      "1                          Smoking     0.347089\n",
      "2                  AlcoholDrinking    -0.237572\n",
      "3                           Stroke     1.039184\n",
      "4                   PhysicalHealth     0.001972\n",
      "5                     MentalHealth     0.004165\n",
      "6                      DiffWalking     0.237526\n",
      "7                              Sex     0.713386\n",
      "8                         Diabetic     0.469800\n",
      "9                 PhysicalActivity     0.018122\n",
      "10                       SleepTime    -0.028957\n",
      "11                          Asthma     0.281968\n",
      "12                   KidneyDisease     0.574205\n",
      "13                      SkinCancer     0.114863\n",
      "14  American Indian/Alaskan Native    -0.612518\n",
      "15                           Asian    -1.051464\n",
      "16                           Black    -0.901265\n",
      "17                        Hispanic    -0.791954\n",
      "18                           Other    -0.588563\n",
      "19                           White    -0.626817\n",
      "20               GenHealth_encoded     0.632318\n",
      "21                     UpdatedAges     0.055434\n"
     ]
    }
   ],
   "source": [
    "coefs = clf.coef_\n",
    "cols = list(df_copy)\n",
    "cols.remove('HeartDisease')\n",
    "listcoef = coefs.tolist()\n",
    "listcoef = listcoef[0]\n",
    "table = pd.DataFrame()\n",
    "table['Variables'] = cols\n",
    "table['Coeficients'] = listcoef\n",
    "print(table)"
   ]
  }
 ],
 "metadata": {
  "kernelspec": {
   "display_name": "Python 3 (ipykernel)",
   "language": "python",
   "name": "python3"
  },
  "language_info": {
   "codemirror_mode": {
    "name": "ipython",
    "version": 3
   },
   "file_extension": ".py",
   "mimetype": "text/x-python",
   "name": "python",
   "nbconvert_exporter": "python",
   "pygments_lexer": "ipython3",
   "version": "3.9.12"
  }
 },
 "nbformat": 4,
 "nbformat_minor": 5
}
